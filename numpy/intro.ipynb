{
 "cells": [
  {
   "cell_type": "markdown",
   "id": "864cc707",
   "metadata": {},
   "source": [
    "- Numpy internally store datas continous block of memory independednt of pythons objects\n",
    "- numpy algorithms are written in C\n",
    "- can operate directly on memeory without overhead of typechecking\n",
    "- uses much less memeory\n",
    "\n",
    "- performs actions on entire array without the need for loops"
   ]
  },
  {
   "cell_type": "code",
   "execution_count": 3,
   "id": "5047f1ef",
   "metadata": {},
   "outputs": [],
   "source": [
    "import numpy as np\n",
    "my_arr = np.arange(1000000)\n",
    "my_list = list(range(1000000))"
   ]
  },
  {
   "cell_type": "code",
   "execution_count": 4,
   "id": "166363e7",
   "metadata": {},
   "outputs": [
    {
     "name": "stdout",
     "output_type": "stream",
     "text": [
      "CPU times: user 15.6 ms, sys: 19.1 ms, total: 34.7 ms\n",
      "Wall time: 36.3 ms\n"
     ]
    }
   ],
   "source": [
    "%time for _ in range(10): my_arr2 = my_arr *2"
   ]
  },
  {
   "cell_type": "code",
   "execution_count": 5,
   "id": "0741b34d",
   "metadata": {},
   "outputs": [
    {
     "name": "stdout",
     "output_type": "stream",
     "text": [
      "CPU times: user 714 ms, sys: 143 ms, total: 858 ms\n",
      "Wall time: 859 ms\n"
     ]
    }
   ],
   "source": [
    "%time for _ in range(10): my_list2 = [x*2 for x in my_list]"
   ]
  },
  {
   "cell_type": "markdown",
   "id": "f1ebef18",
   "metadata": {},
   "source": [
    "### Here its visible the efficiency of using numpy over the regular pthon code"
   ]
  },
  {
   "cell_type": "markdown",
   "id": "215ba7dc",
   "metadata": {},
   "source": [
    "## ndarray"
   ]
  },
  {
   "cell_type": "markdown",
   "id": "12f5c4e7",
   "metadata": {},
   "source": [
    "nd array is a generic multidimensional conatainer for data of same type(homogenous). \n",
    "each array has a. shape, tuple indicating size of each dimension and dtype"
   ]
  },
  {
   "cell_type": "code",
   "execution_count": 6,
   "id": "7f19167f",
   "metadata": {},
   "outputs": [
    {
     "data": {
      "text/plain": [
       "array([[ 1.51739961, -0.15281173,  0.87736639],\n",
       "       [ 0.00825936,  0.34722864, -0.06233685]])"
      ]
     },
     "execution_count": 6,
     "metadata": {},
     "output_type": "execute_result"
    }
   ],
   "source": [
    "import numpy as np\n",
    "# Generate random\n",
    "data = np.random.randn(2,3)\n",
    "data"
   ]
  },
  {
   "cell_type": "code",
   "execution_count": 7,
   "id": "587f655a",
   "metadata": {},
   "outputs": [
    {
     "data": {
      "text/plain": [
       "array([[15.17399613, -1.52811733,  8.77366391],\n",
       "       [ 0.08259358,  3.47228643, -0.62336846]])"
      ]
     },
     "execution_count": 7,
     "metadata": {},
     "output_type": "execute_result"
    }
   ],
   "source": [
    "data * 10"
   ]
  },
  {
   "cell_type": "code",
   "execution_count": 8,
   "id": "95793b9b",
   "metadata": {},
   "outputs": [
    {
     "data": {
      "text/plain": [
       "array([[ 3.03479923, -0.30562347,  1.75473278],\n",
       "       [ 0.01651872,  0.69445729, -0.12467369]])"
      ]
     },
     "execution_count": 8,
     "metadata": {},
     "output_type": "execute_result"
    }
   ],
   "source": [
    "data + data"
   ]
  },
  {
   "cell_type": "markdown",
   "id": "51648553",
   "metadata": {},
   "source": [
    "#### creation"
   ]
  },
  {
   "cell_type": "code",
   "execution_count": 9,
   "id": "798ceca6",
   "metadata": {},
   "outputs": [
    {
     "data": {
      "text/plain": [
       "array([6. , 7.5, 8. , 0. , 1. ])"
      ]
     },
     "execution_count": 9,
     "metadata": {},
     "output_type": "execute_result"
    }
   ],
   "source": [
    "data1 = [6, 7.5, 8, 0, 1]\n",
    "array1 = np.array(data1)\n",
    "array1 # 1D Array"
   ]
  },
  {
   "cell_type": "code",
   "execution_count": 12,
   "id": "7a4bb02d",
   "metadata": {},
   "outputs": [
    {
     "data": {
      "text/plain": [
       "array([[1, 2, 3, 4],\n",
       "       [5, 6, 7, 8]])"
      ]
     },
     "execution_count": 12,
     "metadata": {},
     "output_type": "execute_result"
    }
   ],
   "source": [
    "data2 = [[1,2,3,4], [5,6,7,8]]\n",
    "array2 = np.array(data2)\n",
    "array2 # 2D array"
   ]
  },
  {
   "cell_type": "markdown",
   "id": "08472cc0",
   "metadata": {},
   "source": [
    "#### Dimension"
   ]
  },
  {
   "cell_type": "code",
   "execution_count": 14,
   "id": "d4bb08e9",
   "metadata": {},
   "outputs": [
    {
     "data": {
      "text/plain": [
       "2"
      ]
     },
     "execution_count": 14,
     "metadata": {},
     "output_type": "execute_result"
    }
   ],
   "source": [
    "array2.ndim"
   ]
  },
  {
   "cell_type": "markdown",
   "id": "43356879",
   "metadata": {},
   "source": [
    "#### shape"
   ]
  },
  {
   "cell_type": "code",
   "execution_count": 15,
   "id": "5228b61d",
   "metadata": {},
   "outputs": [
    {
     "data": {
      "text/plain": [
       "(2, 4)"
      ]
     },
     "execution_count": 15,
     "metadata": {},
     "output_type": "execute_result"
    }
   ],
   "source": [
    "array2.shape"
   ]
  },
  {
   "cell_type": "markdown",
   "id": "1743ddce",
   "metadata": {},
   "source": [
    "#### dtype"
   ]
  },
  {
   "cell_type": "code",
   "execution_count": 16,
   "id": "38d8fe9d",
   "metadata": {},
   "outputs": [
    {
     "data": {
      "text/plain": [
       "dtype('int64')"
      ]
     },
     "execution_count": 16,
     "metadata": {},
     "output_type": "execute_result"
    }
   ],
   "source": [
    "array2.dtype"
   ]
  },
  {
   "cell_type": "markdown",
   "id": "49d8a4aa",
   "metadata": {},
   "source": [
    "### creating zero matrix\n"
   ]
  },
  {
   "cell_type": "code",
   "execution_count": 18,
   "id": "3e594898",
   "metadata": {},
   "outputs": [
    {
     "data": {
      "text/plain": [
       "array([0., 0., 0., 0., 0., 0., 0., 0., 0., 0.])"
      ]
     },
     "execution_count": 18,
     "metadata": {},
     "output_type": "execute_result"
    }
   ],
   "source": [
    "np.zeros(10)"
   ]
  },
  {
   "cell_type": "code",
   "execution_count": 20,
   "id": "0d5c9732",
   "metadata": {},
   "outputs": [
    {
     "data": {
      "text/plain": [
       "array([[0., 0., 0., 0., 0.],\n",
       "       [0., 0., 0., 0., 0.],\n",
       "       [0., 0., 0., 0., 0.],\n",
       "       [0., 0., 0., 0., 0.]])"
      ]
     },
     "execution_count": 20,
     "metadata": {},
     "output_type": "execute_result"
    }
   ],
   "source": [
    "np.zeros((4,5))"
   ]
  },
  {
   "cell_type": "markdown",
   "id": "50bb056c",
   "metadata": {},
   "source": [
    "### Emtpy matrix (does not initialize values)"
   ]
  },
  {
   "cell_type": "code",
   "execution_count": 24,
   "id": "5ae8462f",
   "metadata": {},
   "outputs": [
    {
     "data": {
      "text/plain": [
       "array([[4618441417868443648, 4620130267728707584],\n",
       "       [4620693217682128896, 4607182418800017408]])"
      ]
     },
     "execution_count": 24,
     "metadata": {},
     "output_type": "execute_result"
    }
   ],
   "source": [
    "np.empty([2, 2], dtype=int)"
   ]
  }
 ],
 "metadata": {
  "kernelspec": {
   "display_name": "Python 3",
   "language": "python",
   "name": "python3"
  },
  "language_info": {
   "codemirror_mode": {
    "name": "ipython",
    "version": 3
   },
   "file_extension": ".py",
   "mimetype": "text/x-python",
   "name": "python",
   "nbconvert_exporter": "python",
   "pygments_lexer": "ipython3",
   "version": "3.8.8"
  }
 },
 "nbformat": 4,
 "nbformat_minor": 5
}
