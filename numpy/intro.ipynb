{
 "cells": [
  {
   "cell_type": "markdown",
   "id": "8b8b66b2",
   "metadata": {},
   "source": [
    "- Numpy internally store datas continous block of memory independednt of pythons objects\n",
    "- numpy algorithms are written in C\n",
    "- can operate directly on memeory without overhead of typechecking\n",
    "- uses much less memeory\n",
    "\n",
    "- performs actions on entire array without the need for loops"
   ]
  },
  {
   "cell_type": "code",
   "execution_count": 3,
   "id": "2e762758",
   "metadata": {},
   "outputs": [],
   "source": [
    "import numpy as np\n",
    "my_arr = np.arange(1000000)\n",
    "my_list = list(range(1000000))"
   ]
  },
  {
   "cell_type": "code",
   "execution_count": 4,
   "id": "16ef4392",
   "metadata": {},
   "outputs": [
    {
     "name": "stdout",
     "output_type": "stream",
     "text": [
      "CPU times: user 15.6 ms, sys: 19.1 ms, total: 34.7 ms\n",
      "Wall time: 36.3 ms\n"
     ]
    }
   ],
   "source": [
    "%time for _ in range(10): my_arr2 = my_arr *2"
   ]
  },
  {
   "cell_type": "code",
   "execution_count": 5,
   "id": "7d0432d2",
   "metadata": {},
   "outputs": [
    {
     "name": "stdout",
     "output_type": "stream",
     "text": [
      "CPU times: user 714 ms, sys: 143 ms, total: 858 ms\n",
      "Wall time: 859 ms\n"
     ]
    }
   ],
   "source": [
    "%time for _ in range(10): my_list2 = [x*2 for x in my_list]"
   ]
  },
  {
   "cell_type": "markdown",
   "id": "ce0078d5",
   "metadata": {},
   "source": [
    "### Here its visible the efficiency of using numpy over the regular pthon code"
   ]
  },
  {
   "cell_type": "code",
   "execution_count": null,
   "id": "9929b119",
   "metadata": {},
   "outputs": [],
   "source": [
    "## y"
   ]
  }
 ],
 "metadata": {
  "kernelspec": {
   "display_name": "Python 3",
   "language": "python",
   "name": "python3"
  },
  "language_info": {
   "codemirror_mode": {
    "name": "ipython",
    "version": 3
   },
   "file_extension": ".py",
   "mimetype": "text/x-python",
   "name": "python",
   "nbconvert_exporter": "python",
   "pygments_lexer": "ipython3",
   "version": "3.8.8"
  }
 },
 "nbformat": 4,
 "nbformat_minor": 5
}
